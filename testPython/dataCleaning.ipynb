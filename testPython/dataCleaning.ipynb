{
 "cells": [
  {
   "cell_type": "code",
   "execution_count": 16,
   "id": "63203316",
   "metadata": {},
   "outputs": [],
   "source": [
    "import pandas as pd\n",
    "from openpyxl import load_workbook\n",
    "\n",
    "start_file = \"TOP 10 LEADING MAY 2023.xlsx\"\n",
    "file = \"Book2.xlsx\"\n",
    "\n",
    "wb = load_workbook(start_file)\n",
    "ws = wb.active\n",
    "\n",
    "#unmegring cells & removal of empty rows\n",
    "for merged_range in list(ws.merged_cells.ranges):\n",
    "    ws.unmerge_cells(str(merged_range))\n",
    "\n",
    "wb.save(\"Book2.xlsx\")\n",
    "\n",
    "df = pd.read_excel(\"Book2.xlsx\", header=None)\n",
    "df = df.dropna(how=\"all\").drop(df.columns[0], axis=1)\n",
    "\n",
    "df.to_excel(file, index=False)\n"
   ]
  },
  {
   "cell_type": "code",
   "execution_count": 14,
   "id": "b7a3f564",
   "metadata": {},
   "outputs": [],
   "source": [
    "#adding header\n",
    "\n",
    "df.insert(0, \"NewColumn\", \"\")\n",
    "\n",
    "df.iloc[:, 1:] = df.iloc[:, 1:].shift(axis=1)\n",
    "df.columns = [\"Month_year\", \"Consultation_Type\", \"Case\",\"Under 1 Male\", \"Under 1 Female\", \"1-4 Male\", \"1-4 Female\"\n",
    "              ,\"5-9 Male\", \"5-9 Female\", \"10-14 Male\", \"10-14 Female\", \"15-18 Male\",\"15-18 Female\",\"19-24 Male\", \"19-24 Female\",\n",
    "              \"25-29 Male\", \"25-29 Female\", \"30-34 Male\", \"30-34 Female\", \"35-39 Male\", \"35-39 Female\", \"40-44 Male\", \"40-44 Female\",\n",
    "              \"45-49 Male\", \"45-49 Female\", \"50-54 Male\", \"50-54 Female\", \"55-59 Male\", \"55-59 Female\", \"60-64 Male\", \"60-64 Female\",\n",
    "              \"65-69 Male\", \"65-69 Female\", \"70 Over Male\", \"70 Over Female\"]\n",
    "df.to_excel(file, index=False)\n"
   ]
  },
  {
   "cell_type": "code",
   "execution_count": 9,
   "id": "d0923011",
   "metadata": {},
   "outputs": [
    {
     "name": "stdout",
     "output_type": "stream",
     "text": [
      "Added 'MAY 2023' to the first column for all rows.\n"
     ]
    }
   ],
   "source": [
    "#adding date\n",
    "\n",
    "wb = load_workbook(\"Book2.xlsx\")\n",
    "ws = wb.active\n",
    "\n",
    "found_value = None\n",
    "\n",
    "for row in ws.iter_rows():\n",
    "    for cell in row:\n",
    "        if cell.value and \"MONTH AND YEAR:\" in str(cell.value).strip().upper():\n",
    "            text = str(cell.value).strip()\n",
    "            found_value = text.split(\"MONTH AND YEAR:\")[-1].strip()\n",
    "            found_value\n",
    "    \n",
    "    if found_value:\n",
    "        break\n",
    "\n",
    "if found_value:\n",
    "    for row in range(2, ws.max_row + 1):\n",
    "        ws.cell(row=row, column=1, value=found_value)\n",
    "    wb.save(\"Book2.xlsx\")\n",
    "    print(f\"Added '{found_value}' to the first column for all rows.\")\n",
    "else:\n",
    "    print(\"'MONTH AND YEAR:' not found in the sheet.\")\n",
    "\n"
   ]
  },
  {
   "cell_type": "code",
   "execution_count": 10,
   "id": "af4059c0",
   "metadata": {},
   "outputs": [],
   "source": [
    "#delete 5 next row\n",
    "df = pd.read_excel(file, sheet_name=0)\n",
    "\n",
    "df = df.drop(df.index[0:8], axis=0)\n",
    "df.to_excel(file, index=False)\n",
    "\n"
   ]
  },
  {
   "cell_type": "code",
   "execution_count": 11,
   "id": "5d1b2fab",
   "metadata": {},
   "outputs": [
    {
     "name": "stdout",
     "output_type": "stream",
     "text": [
      "  Month_year  Consultation_Type            Case  Under 1 Male  Under 1 Female  \\\n",
      "0   MAY 2023                1.0           FEVER            32              23   \n",
      "1   MAY 2023                1.0        VOMITING            14               7   \n",
      "2   MAY 2023                1.0  ABDOMINAL PAIN             1               0   \n",
      "3   MAY 2023                1.0             DOB             2               3   \n",
      "4   MAY 2023                1.0             LBM            15               7   \n",
      "\n",
      "   1-4 Male  1-4 Female  5-9 Male  5-9 Female  10-14 Male  ...  50-54 Male  \\\n",
      "0        95          78        67          51          21  ...           0   \n",
      "1        45          40        18          20           5  ...           1   \n",
      "2        12           6        22          20           9  ...           5   \n",
      "3         4           4         2           1           3  ...           7   \n",
      "4        29          14         3           2           3  ...           0   \n",
      "\n",
      "   50-54 Female  55-59 Male  55-59 Female  60-64 Male  60-64 Female  \\\n",
      "0             1           0             0           0             1   \n",
      "1             1           1             1           0             2   \n",
      "2             0           2             5           0             2   \n",
      "3             1           6             5           3             6   \n",
      "4             0           0             1           0             1   \n",
      "\n",
      "   65-69 Male  65-69 Female  70 Over Male  70 Over Female  \n",
      "0           0             0             1               1  \n",
      "1           1             0             2               6  \n",
      "2           1             2             3               4  \n",
      "3           3             8            13               5  \n",
      "4           3             1             1               1  \n",
      "\n",
      "[5 rows x 35 columns]\n"
     ]
    },
    {
     "name": "stderr",
     "output_type": "stream",
     "text": [
      "C:\\Users\\PLPASIG\\AppData\\Local\\Temp\\ipykernel_21604\\386304020.py:28: FutureWarning: Downcasting object dtype arrays on .fillna, .ffill, .bfill is deprecated and will change in a future version. Call result.infer_objects(copy=False) instead. To opt-in to the future behavior, set `pd.set_option('future.no_silent_downcasting', True)`\n",
      "  df = df.fillna(0)\n"
     ]
    }
   ],
   "source": [
    "#deleting unecessary text\n",
    "#in the 2nd column in the fisrt 10 rows put a value of 1, in the next 10 rows add a value of 2 and in last remaning rows with value add 3\n",
    "target = \"PASIG CITY CHILDREN'S HOSPITAL/PASIG CITY COVID-19 REFERRAL CENTER\"\n",
    "\n",
    "\n",
    "\n",
    "idx = df.apply(lambda row: row.astype(str).str.contains(target, na=False)).any(axis=1)\n",
    "target_indices = df.index[idx].tolist()\n",
    "\n",
    "rows_to_delete = []\n",
    "for start_idx in target_indices:\n",
    "    end_idx = min(start_idx + 7, len(df) - 1) \n",
    "    rows_to_delete.extend(range(start_idx, end_idx + 1))\n",
    "\n",
    "df = df[~df.astype(str).apply(lambda row: row.str.contains(\"total\", case=False, na=False)).any(axis=1)]\n",
    "df = df.drop(rows_to_delete).reset_index(drop=True)\n",
    "\n",
    "#assigning case value and adding 0 to empty cells\n",
    "n = len(df)\n",
    "df.iloc[:min(10, n), 1] = 1\n",
    "if n > 10:\n",
    "    df.iloc[10:min(20, n), 1] = 2\n",
    "if n > 20:\n",
    "    df.iloc[20:, 1] = 3\n",
    "df.to_excel(file, index=False)\n",
    "\n",
    "\n",
    "df = df.fillna(0)\n",
    "\n",
    "print(df.head())\n"
   ]
  },
  {
   "cell_type": "code",
   "execution_count": null,
   "id": "10215d08",
   "metadata": {},
   "outputs": [],
   "source": []
  },
  {
   "cell_type": "code",
   "execution_count": null,
   "id": "d8d08f10",
   "metadata": {},
   "outputs": [],
   "source": []
  },
  {
   "cell_type": "markdown",
   "id": "d1c407c5",
   "metadata": {},
   "source": []
  }
 ],
 "metadata": {
  "kernelspec": {
   "display_name": "Python 3",
   "language": "python",
   "name": "python3"
  },
  "language_info": {
   "codemirror_mode": {
    "name": "ipython",
    "version": 3
   },
   "file_extension": ".py",
   "mimetype": "text/x-python",
   "name": "python",
   "nbconvert_exporter": "python",
   "pygments_lexer": "ipython3",
   "version": "3.12.10"
  }
 },
 "nbformat": 4,
 "nbformat_minor": 5
}
